{
 "cells": [
  {
   "cell_type": "markdown",
   "metadata": {},
   "source": [
    "# Задача нечеткой кластеризации: Метод декомпозиционного дерева"
   ]
  },
  {
   "cell_type": "markdown",
   "metadata": {},
   "source": [
    "## Preliminaries"
   ]
  },
  {
   "cell_type": "code",
   "execution_count": 1,
   "metadata": {},
   "outputs": [],
   "source": [
    "import numpy as np\n",
    "from typing import Callable"
   ]
  },
  {
   "cell_type": "markdown",
   "metadata": {},
   "source": [
    "Определим Расстояние Хемминга:"
   ]
  },
  {
   "cell_type": "code",
   "execution_count": 2,
   "metadata": {},
   "outputs": [],
   "source": [
    "def Hamming(i:np.int, j:np.int, table: np.ndarray) -> np.ndarray:\n",
    "    \"\"\"\n",
    "    Computes Hamming distance between A_i and A_j\n",
    "    Where A_i \\in [0,1]^n -- n-dim. vector that contains estimation that\n",
    "    i-th element has P_k feature\n",
    "    \"\"\"\n",
    "    A_i = table[:,i]\n",
    "    A_j = table[:,j]\n",
    "    return sum(abs(A_i - A_j))"
   ]
  },
  {
   "cell_type": "markdown",
   "metadata": {},
   "source": [
    "Определим (max-min)-композицию:"
   ]
  },
  {
   "cell_type": "code",
   "execution_count": 3,
   "metadata": {},
   "outputs": [],
   "source": [
    "def mu(ix: np.int, iy: np.int, arr1: np.ndarray, arr2=np.nan) -> np.float:\n",
    "    \"\"\"\n",
    "    Returns (max-min)-composition for single pair\n",
    "    \"\"\"\n",
    "    if arr2 is np.nan:\n",
    "        arr2 = arr\n",
    "    xz = arr1[ix,:]\n",
    "    zy = arr2[:,iy]\n",
    "    choose = np.array(list(map(lambda x: min(x), list(zip(xz,zy)))))\n",
    "    val = max(choose)\n",
    "    return val\n",
    "\n",
    "def maxmin(arr1:np.ndarray, arr2=np.nan) -> np.ndarray:\n",
    "    \"\"\"\n",
    "    Returns (max-min)-composition for given matrices\n",
    "    \"\"\"\n",
    "    if arr2 is np.nan:\n",
    "        arr2 = arr1\n",
    "    x = arr1.shape[0]\n",
    "    y = arr2.shape[1]\n",
    "    pot = np.empty((x,y))\n",
    "    for ix in range(0,x):\n",
    "        for iy in range(0, y):\n",
    "            pot[ix,iy] = mu(ix,iy,arr1,arr2)\n",
    "    return pot"
   ]
  },
  {
   "cell_type": "markdown",
   "metadata": {},
   "source": [
    "Определим (max-T)-композицию:"
   ]
  },
  {
   "cell_type": "code",
   "execution_count": 4,
   "metadata": {},
   "outputs": [],
   "source": [
    "def T(x:np.float, y:np.float, a=-5, b=0.2) -> np.float:  \n",
    "    \"\"\"\n",
    "    Computes given T-norm\n",
    "    \"\"\"\n",
    "    numer = x*y - (1-a)*(1-b)*(1-x)*(1-y)\n",
    "    denom = 1 + a*b*(1-x)*(1-y)\n",
    "    return max(0, numer/denom)\n",
    "\n",
    "def muT(ix: np.int, iy: np.int, arr1: np.ndarray, arr2=np.nan) -> np.float:\n",
    "    \"\"\"\n",
    "    Returns (max-T)-composition for single pair\n",
    "    \"\"\"\n",
    "    if arr2 is np.nan:\n",
    "        arr2 = arr\n",
    "    xz = arr1[ix,:]\n",
    "    zy = arr2[:,iy]\n",
    "    choose = np.array(list(map(lambda x: T(*x), list(zip(xz,zy)))))\n",
    "    val = max(choose)\n",
    "    return val\n",
    "\n",
    "def maxT(arr1:np.ndarray, arr2=np.nan, T=T) -> np.ndarray:\n",
    "    \"\"\"\n",
    "    Computes (max-T)-composition for given matrices and given T-norm\n",
    "    \"\"\"\n",
    "    if arr2 is np.nan:\n",
    "        arr2 = arr1\n",
    "    x = arr1.shape[0]\n",
    "    y = arr2.shape[1]\n",
    "    pot = np.empty((x,y))\n",
    "    for ix in range(0,x):\n",
    "        for iy in range(0, y):\n",
    "            pot[ix,iy] = np.round(muT(ix,iy,arr1,arr2),2)\n",
    "    return pot"
   ]
  },
  {
   "cell_type": "markdown",
   "metadata": {},
   "source": [
    "Определим транзитивное замыкание:"
   ]
  },
  {
   "cell_type": "code",
   "execution_count": 5,
   "metadata": {},
   "outputs": [],
   "source": [
    "def union(arr1:np.ndarray, arr2:np.ndarray) -> np.ndarray:\n",
    "    \"\"\"\n",
    "    Computes union of 2 fuzzy relations\n",
    "    \"\"\"\n",
    "    shape = arr1.shape\n",
    "    pot = np.empty(shape)\n",
    "    for ix in range(0,shape[0]):\n",
    "        for iy in range(0,shape[1]):\n",
    "            pot[ix,iy] = max(arr1[ix,iy],arr2[ix,iy])\n",
    "    return pot\n",
    "\n",
    "def trans_closure(arr:np.ndarray, comp = maxmin, show = False) -> np.ndarray:\n",
    "    \"\"\"\n",
    "    Computes transitive closure of a fuzzy relation\n",
    "    \"\"\"\n",
    "    pot = arr\n",
    "    new_arr = comp(arr)\n",
    "    count = 1\n",
    "    if show:\n",
    "        print(count)\n",
    "        print(new_arr)\n",
    "        print('----------')\n",
    "    if (new_arr==arr).all():\n",
    "        return pot\n",
    "    else:\n",
    "        pot = union(new_arr,arr)\n",
    "        while True:\n",
    "            prev_arr = new_arr\n",
    "            new_arr = comp(new_arr,arr)\n",
    "            count += 1\n",
    "            if show:\n",
    "                print(count)\n",
    "                print(new_arr)\n",
    "                print('----------')\n",
    "            if (prev_arr==new_arr).all():\n",
    "                return pot\n",
    "            else:\n",
    "                pot = union(new_arr,arr)"
   ]
  },
  {
   "cell_type": "markdown",
   "metadata": {},
   "source": [
    "Определим процедуру декомпозиции отношения эквивалентности:"
   ]
  },
  {
   "cell_type": "code",
   "execution_count": 6,
   "metadata": {},
   "outputs": [],
   "source": [
    "def alphas(arr:np.ndarray) -> np.ndarray:\n",
    "    \"\"\"\n",
    "    Returns valid alpha for future alpha-decomposition for decomposing tree\n",
    "    \"\"\"\n",
    "    mask = (arr > 0) & (arr < 1)\n",
    "    alphs = np.unique(np.append(arr[mask], [1])) # add 1 separately in case if r>1 ∀r ∈ R\n",
    "    return alphs \n",
    "\n",
    "def decompose(arr:np.ndarray) -> np.ndarray:\n",
    "    \"\"\"\n",
    "    Returns pairs (alpha, R_aplha) that are given during decomposition for given relation\n",
    "    Such that for given R: R = max_alpha{alpha * R_aplha}, where alpha \\in (0,1]\n",
    "    \"\"\"\n",
    "    alphs = alphas(arr)\n",
    "    cuts = []\n",
    "    for a in alphs:\n",
    "        mask = (arr >= a)\n",
    "        cuts.append(mask.astype(np.int))\n",
    "    return list(zip(alphs,cuts))"
   ]
  },
  {
   "cell_type": "markdown",
   "metadata": {},
   "source": [
    "Определим процедуру нормализации матрицы:"
   ]
  },
  {
   "cell_type": "code",
   "execution_count": 14,
   "metadata": {},
   "outputs": [],
   "source": [
    "def normalize(R:np.ndarray) -> np.ndarray:\n",
    "    row_sums = R.sum(axis=1)\n",
    "    return R / row_sums[:, np.newaxis]"
   ]
  },
  {
   "cell_type": "markdown",
   "metadata": {},
   "source": [
    "## Main Part"
   ]
  },
  {
   "cell_type": "markdown",
   "metadata": {},
   "source": [
    "Имеется следующая таблица:"
   ]
  },
  {
   "cell_type": "code",
   "execution_count": 7,
   "metadata": {},
   "outputs": [
    {
     "data": {
      "text/plain": [
       "array([[0.8, 0.7, 0.7, 0.3, 0. ],\n",
       "       [0.5, 1. , 0.5, 0. , 0. ],\n",
       "       [0.5, 0.6, 0.8, 0.4, 0.2],\n",
       "       [0.9, 0.5, 0.3, 0.2, 0.2],\n",
       "       [0.6, 0.8, 0.9, 0.3, 0.1],\n",
       "       [0.2, 0.4, 0.6, 0.8, 0.9]])"
      ]
     },
     "execution_count": 7,
     "metadata": {},
     "output_type": "execute_result"
    }
   ],
   "source": [
    "U = ('a', 'b', 'c', 'd', 'e')\n",
    "given = \"0.8 0.7 0.7 0.3 0.0 | 0.5 1 0.5 0.0 0.0 | 0.5 0.6 0.8 0.4 0.2 | \\\n",
    "         0.9 0.5 0.3 0.2 0.2 | 0.6 0.8 0.9 0.3 0.1 | 0.2 0.4 0.6 0.8 0.9\"\n",
    "lines = given.split(\"|\")\n",
    "elements = [line.split() for line in lines]\n",
    "table = np.array([list(map(lambda x: float(x), line)) for line in elements])\n",
    "table"
   ]
  },
  {
   "cell_type": "markdown",
   "metadata": {},
   "source": [
    "С помощью расстояния Хемминга построим матрицу отношения несходства $R$, а после перейдем к матрице сходства:"
   ]
  },
  {
   "cell_type": "code",
   "execution_count": 15,
   "metadata": {},
   "outputs": [
    {
     "name": "stdout",
     "output_type": "stream",
     "text": [
      "R matrix:\n",
      "[[0.         0.15957447 0.18085106 0.28723404 0.37234043]\n",
      " [0.16483516 0.         0.13186813 0.30769231 0.3956044 ]\n",
      " [0.20987654 0.14814815 0.         0.27160494 0.37037037]\n",
      " [0.31764706 0.32941176 0.25882353 0.         0.09411765]\n",
      " [0.32110092 0.33027523 0.27522936 0.0733945  0.        ]]\n",
      "Rhat matrix:\n",
      "[[1.         0.84042553 0.81914894 0.71276596 0.62765957]\n",
      " [0.83516484 1.         0.86813187 0.69230769 0.6043956 ]\n",
      " [0.79012346 0.85185185 1.         0.72839506 0.62962963]\n",
      " [0.68235294 0.67058824 0.74117647 1.         0.90588235]\n",
      " [0.67889908 0.66972477 0.72477064 0.9266055  1.        ]]\n"
     ]
    }
   ],
   "source": [
    "card = table.shape[1]\n",
    "R = np.empty((card,card))\n",
    "for i in range(0,card):\n",
    "    for j in range(0,card):\n",
    "        R[i,j] = Hamming(i,j,table)\n",
    "R = normalize(R)\n",
    "Rhat = 1 - R\n",
    "print(\"R matrix:\\n{}\\nRhat matrix:\\n{}\".format(R,Rhat))"
   ]
  },
  {
   "cell_type": "markdown",
   "metadata": {},
   "source": [
    "Найдем транзитивное замыкание $\\hat{R}$ с двумя разными композициями:"
   ]
  },
  {
   "cell_type": "code",
   "execution_count": 16,
   "metadata": {},
   "outputs": [
    {
     "name": "stdout",
     "output_type": "stream",
     "text": [
      "Transitive closure with (max-min)-composition:\n",
      "[[1.         0.84042553 0.84042553 0.72839506 0.72839506]\n",
      " [0.83516484 1.         0.86813187 0.72839506 0.72839506]\n",
      " [0.83516484 0.85185185 1.         0.72839506 0.72839506]\n",
      " [0.74117647 0.74117647 0.74117647 1.         0.90588235]\n",
      " [0.74117647 0.74117647 0.74117647 0.9266055  1.        ]]\n",
      " Transitive closure with (max-T)-composition:\n",
      "[[1.         0.84042553 0.82       0.71276596 0.63      ]\n",
      " [0.84       1.         0.87       0.69230769 0.6043956 ]\n",
      " [0.79012346 0.85185185 1.         0.73       0.63      ]\n",
      " [0.68235294 0.67058824 0.74117647 1.         0.91      ]\n",
      " [0.68       0.67       0.72477064 0.93       1.        ]]\n"
     ]
    }
   ],
   "source": [
    "ClR = trans_closure(Rhat)\n",
    "TClR = trans_closure(Rhat, comp=maxT)\n",
    "print('Transitive closure with (max-min)-composition:\\n{}\\n \\\n",
    "Transitive closure with (max-T)-composition:\\n{}'.format(ClR, TClR))"
   ]
  },
  {
   "cell_type": "markdown",
   "metadata": {},
   "source": [
    "Разложим полученное с помощью (max-min)-композиции отношение по теореме о декомпозиции через систему $\\alpha$-срезов:"
   ]
  },
  {
   "cell_type": "code",
   "execution_count": 18,
   "metadata": {},
   "outputs": [
    {
     "data": {
      "text/plain": [
       "[(0.7283950617283951, array([[1, 1, 1, 1, 1],\n",
       "         [1, 1, 1, 1, 1],\n",
       "         [1, 1, 1, 1, 1],\n",
       "         [1, 1, 1, 1, 1],\n",
       "         [1, 1, 1, 1, 1]])), (0.7411764705882353, array([[1, 1, 1, 0, 0],\n",
       "         [1, 1, 1, 0, 0],\n",
       "         [1, 1, 1, 0, 0],\n",
       "         [1, 1, 1, 1, 1],\n",
       "         [1, 1, 1, 1, 1]])), (0.8351648351648351, array([[1, 1, 1, 0, 0],\n",
       "         [1, 1, 1, 0, 0],\n",
       "         [1, 1, 1, 0, 0],\n",
       "         [0, 0, 0, 1, 1],\n",
       "         [0, 0, 0, 1, 1]])), (0.8404255319148937, array([[1, 1, 1, 0, 0],\n",
       "         [0, 1, 1, 0, 0],\n",
       "         [0, 1, 1, 0, 0],\n",
       "         [0, 0, 0, 1, 1],\n",
       "         [0, 0, 0, 1, 1]])), (0.8518518518518519, array([[1, 0, 0, 0, 0],\n",
       "         [0, 1, 1, 0, 0],\n",
       "         [0, 1, 1, 0, 0],\n",
       "         [0, 0, 0, 1, 1],\n",
       "         [0, 0, 0, 1, 1]])), (0.8681318681318682, array([[1, 0, 0, 0, 0],\n",
       "         [0, 1, 1, 0, 0],\n",
       "         [0, 0, 1, 0, 0],\n",
       "         [0, 0, 0, 1, 1],\n",
       "         [0, 0, 0, 1, 1]])), (0.9058823529411765, array([[1, 0, 0, 0, 0],\n",
       "         [0, 1, 0, 0, 0],\n",
       "         [0, 0, 1, 0, 0],\n",
       "         [0, 0, 0, 1, 1],\n",
       "         [0, 0, 0, 1, 1]])), (0.926605504587156, array([[1, 0, 0, 0, 0],\n",
       "         [0, 1, 0, 0, 0],\n",
       "         [0, 0, 1, 0, 0],\n",
       "         [0, 0, 0, 1, 0],\n",
       "         [0, 0, 0, 1, 1]])), (1.0, array([[1, 0, 0, 0, 0],\n",
       "         [0, 1, 0, 0, 0],\n",
       "         [0, 0, 1, 0, 0],\n",
       "         [0, 0, 0, 1, 0],\n",
       "         [0, 0, 0, 0, 1]]))]"
      ]
     },
     "execution_count": 18,
     "metadata": {},
     "output_type": "execute_result"
    }
   ],
   "source": [
    "decClR = decompose(ClR)\n",
    "decClR"
   ]
  },
  {
   "cell_type": "code",
   "execution_count": null,
   "metadata": {},
   "outputs": [],
   "source": []
  }
 ],
 "metadata": {
  "kernelspec": {
   "display_name": "Python 3",
   "language": "python",
   "name": "python3"
  },
  "language_info": {
   "codemirror_mode": {
    "name": "ipython",
    "version": 3
   },
   "file_extension": ".py",
   "mimetype": "text/x-python",
   "name": "python",
   "nbconvert_exporter": "python",
   "pygments_lexer": "ipython3",
   "version": "3.7.6"
  }
 },
 "nbformat": 4,
 "nbformat_minor": 4
}
