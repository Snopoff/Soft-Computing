{
 "cells": [
  {
   "cell_type": "markdown",
   "metadata": {},
   "source": [
    "# Моделирование оценочных систем\n",
    "Вариант 3"
   ]
  },
  {
   "cell_type": "code",
   "execution_count": 150,
   "metadata": {},
   "outputs": [],
   "source": [
    "import numpy as np\n",
    "from random import randint\n",
    "from typing import Callable\n",
    "from scipy.linalg import eigh"
   ]
  },
  {
   "cell_type": "markdown",
   "metadata": {},
   "source": [
    "## Задача 1"
   ]
  },
  {
   "cell_type": "markdown",
   "metadata": {},
   "source": [
    "Дан следующий массив с названиями объектов, и пусть выделено 5 главных признаков:"
   ]
  },
  {
   "cell_type": "code",
   "execution_count": 121,
   "metadata": {},
   "outputs": [
    {
     "name": "stdout",
     "output_type": "stream",
     "text": [
      "We have next labels:\n",
      "{0: 'Новые окна', 1: 'ЕвроОКНА', 2: 'Русские окна', 3: 'Горизонт', 4: 'ViPlast', 5: 'Velux', 6: 'Витраж'}\n",
      "And this table:\n",
      "[[2 3 2 2 2 1]\n",
      " [3 4 4 3 3 3]\n",
      " [2 3 1 3 3 1]\n",
      " [3 2 2 3 3 2]\n",
      " [2 4 1 2 2 2]\n",
      " [3 3 4 2 2 3]\n",
      " [2 3 3 3 2 2]]\n",
      "Main features are ones that are in next columns: [0, 1, 2, 3, 4]\n"
     ]
    }
   ],
   "source": [
    "given = np.array([\n",
    "    [2,3,2,2,2,1],\n",
    "    [3,4,4,3,3,3],\n",
    "    [2,3,1,3,3,1],\n",
    "    [3,2,2,3,3,2],\n",
    "    [2,4,1,2,2,2],\n",
    "    [3,3,4,2,2,3],\n",
    "    [2,3,3,3,2,2]\n",
    "])\n",
    "\n",
    "labels = {\n",
    "    0 : \"Новые окна\",\n",
    "    1 : \"ЕвроОКНА\",\n",
    "    2 : \"Русские окна\",\n",
    "    3 : \"Горизонт\",\n",
    "    4 : \"ViPlast\",\n",
    "    5 : \"Velux\",\n",
    "    6 : \"Витраж\"\n",
    "}\n",
    "\n",
    "idx = [0,1,2,3,4]\n",
    "\n",
    "print(\"We have next labels:\\n{}\\nAnd this table:\\n{}\\nMain features \\\n",
    "are ones that are in next columns: {}\".format(labels,given,idx))"
   ]
  },
  {
   "cell_type": "markdown",
   "metadata": {},
   "source": [
    "Так как показатели устроены по принципу \"чем больше, тем лучше\", то нормировать будем по следующему принципу:\n",
    "$$ x_i^{new} = \\frac{x_i - x_i^{min}}{x_i^{max} - x_i^{min}} $$"
   ]
  },
  {
   "cell_type": "code",
   "execution_count": 122,
   "metadata": {},
   "outputs": [],
   "source": [
    "def normalize(arr: np.array, type = 'min') -> np.array:\n",
    "    \"\"\"\n",
    "    Perform normalization of given matrix\n",
    "    \"\"\"\n",
    "    res = []\n",
    "    for line in np.transpose(arr):\n",
    "        xmin = line.min()\n",
    "        xmax = line.max()\n",
    "        if type == 'min':\n",
    "            f = lambda x: (x - xmin) / ( xmax - xmin )\n",
    "        else:\n",
    "            f = lambda x: (xmax - x) / ( xmax - xmin )\n",
    "        res.append([round(f(x),2) for x in line])\n",
    "    return np.transpose(np.array(res))"
   ]
  },
  {
   "cell_type": "code",
   "execution_count": 126,
   "metadata": {},
   "outputs": [
    {
     "name": "stdout",
     "output_type": "stream",
     "text": [
      "Normalized table is:\n",
      "[[0.   0.5  0.33 0.   0.   0.  ]\n",
      " [1.   1.   1.   1.   1.   1.  ]\n",
      " [0.   0.5  0.   1.   1.   0.  ]\n",
      " [1.   0.   0.33 1.   1.   0.5 ]\n",
      " [0.   1.   0.   0.   0.   0.5 ]\n",
      " [1.   0.5  1.   0.   0.   1.  ]\n",
      " [0.   0.5  0.67 1.   0.   0.5 ]]\n"
     ]
    }
   ],
   "source": [
    "normed = normalize(given)\n",
    "work = np.take(normed,idx,axis=1)\n",
    "np.savetxt(\"data/normed.csv\", normed, delimiter=' & ', fmt='%1.1f', newline=' \\\\\\\\\\n')\n",
    "print(\"Normalized table is:\\n{}\".format(normed))"
   ]
  },
  {
   "cell_type": "markdown",
   "metadata": {},
   "source": [
    "### Метод парных сравнений\n",
    "Применим метод парных сравнений, сначала создав матрицу парных сравнений:"
   ]
  },
  {
   "cell_type": "code",
   "execution_count": 164,
   "metadata": {},
   "outputs": [],
   "source": [
    "def pc_matrix(arr:np.array, idx=None) -> np.array:\n",
    "    if idx is None:\n",
    "        idx = np.linspace(0,4,5).astype('int64')\n",
    "    pc_arr = np.take(arr,idx, axis=1)\n",
    "    pc_matrix = np.zeros((pc_arr.shape[1], pc_arr.shape[1]))\n",
    "    for i in range(pc_matrix.shape[0]):\n",
    "        for j in range(pc_matrix.shape[1]):\n",
    "            if i <= j:\n",
    "                pc_matrix[i,j] = randint(0,2)\n",
    "            else:\n",
    "                pc_matrix[i,j] = 2 - pc_matrix[j,i]\n",
    "                \n",
    "    return pc_matrix\n",
    "\n",
    "def paired_comparison(arr:np.array, eps = 10e-5, iterly = True) -> np.array:\n",
    "    \"\"\"\n",
    "    Perform paired comparison method\n",
    "    \"\"\"\n",
    "    if iterly:\n",
    "        v = arr.sum(axis=1).reshape(-1,1)\n",
    "        k = 0\n",
    "        found = False\n",
    "        prev_w = 0\n",
    "        while not found:\n",
    "            w = v / v.sum()\n",
    "            if k != 0:\n",
    "                if (np.abs(w - prev_w) < eps).all():\n",
    "                    found = True\n",
    "                    w_star = w\n",
    "            k += 1\n",
    "            prev_w = w\n",
    "            v = arr.dot(v)\n",
    "    else:\n",
    "        _,v = eigh(arr)\n",
    "        w_star = v[:,-1]\n",
    "        \n",
    "    return w_star"
   ]
  },
  {
   "cell_type": "code",
   "execution_count": 153,
   "metadata": {},
   "outputs": [
    {
     "name": "stdout",
     "output_type": "stream",
     "text": [
      "We got next paired comparison matrix:\n",
      "[[2. 1. 2. 2. 0.]\n",
      " [1. 0. 2. 2. 1.]\n",
      " [0. 0. 2. 0. 2.]\n",
      " [0. 0. 2. 1. 2.]\n",
      " [2. 1. 0. 0. 2.]]\n",
      "We got next weights:\n",
      "[[0.25655311]\n",
      " [0.21013577]\n",
      " [0.13844433]\n",
      " [0.17115931]\n",
      " [0.22370748]]\n"
     ]
    }
   ],
   "source": [
    "pc_mat = pc_matrix(given, idx=idx)\n",
    "np.savetxt(\"data/pc_mat.csv\", pc_mat, delimiter=' & ', fmt='%1.1f', newline=' \\\\\\\\\\n')\n",
    "print(\"We got next paired comparison matrix:\\n{}\".format(pc_mat))\n",
    "weights = paired_comparison(pc_mat)\n",
    "print(\"We got next weights:\\n{}\".format(weights))"
   ]
  },
  {
   "cell_type": "code",
   "execution_count": 165,
   "metadata": {},
   "outputs": [
    {
     "data": {
      "text/plain": [
       "array([0.67388734, 0.30290545, 0.        , 0.        , 0.67388734])"
      ]
     },
     "execution_count": 165,
     "metadata": {},
     "output_type": "execute_result"
    }
   ],
   "source": [
    "w = paired_comparison(pc_mat, iterly=False)\n",
    "w"
   ]
  },
  {
   "cell_type": "markdown",
   "metadata": {},
   "source": [
    "Будем использовать в качестве операции агрегирования взвешенное среднее:\n",
    "$$ S(x,w) = <x,w> $$"
   ]
  },
  {
   "cell_type": "code",
   "execution_count": 166,
   "metadata": {},
   "outputs": [],
   "source": [
    "def weighted_avg(x:np.array, w:np.array) -> np.double:\n",
    "    \"\"\"\n",
    "    Computes weighted average\n",
    "    \"\"\"\n",
    "    return np.dot(x,w)"
   ]
  },
  {
   "cell_type": "code",
   "execution_count": 170,
   "metadata": {},
   "outputs": [
    {
     "name": "stdout",
     "output_type": "stream",
     "text": [
      "So ranking is:\n",
      "[[0.15075451]\n",
      " [1.        ]\n",
      " [0.49993468]\n",
      " [0.69710653]\n",
      " [0.21013577]\n",
      " [0.50006532]\n",
      " [0.3689849 ]]\n"
     ]
    }
   ],
   "source": [
    "aggrd = np.apply_along_axis(weighted_avg,1,work, weights)\n",
    "print(\"So ranking is:\\n{}\".format(aggrd))"
   ]
  },
  {
   "cell_type": "code",
   "execution_count": 171,
   "metadata": {},
   "outputs": [
    {
     "name": "stdout",
     "output_type": "stream",
     "text": [
      "0.15\n",
      "1.00\n",
      "0.50\n",
      "0.70\n",
      "0.21\n",
      "0.50\n",
      "0.37\n"
     ]
    }
   ],
   "source": [
    "for m in aggrd:\n",
    "    print(\"{:.2f}\".format(*m))"
   ]
  },
  {
   "cell_type": "markdown",
   "metadata": {},
   "source": [
    "А значит лучший телефонный оператор:"
   ]
  },
  {
   "cell_type": "code",
   "execution_count": 168,
   "metadata": {},
   "outputs": [
    {
     "data": {
      "text/plain": [
       "'ЕвроОКНА'"
      ]
     },
     "execution_count": 168,
     "metadata": {},
     "output_type": "execute_result"
    }
   ],
   "source": [
    "labels[aggrd.argmax()]"
   ]
  },
  {
   "cell_type": "markdown",
   "metadata": {},
   "source": [
    "### OWA-оператор\n",
    "Теперь решим данную задачу с помощью OWA:"
   ]
  },
  {
   "cell_type": "code",
   "execution_count": 174,
   "metadata": {},
   "outputs": [],
   "source": [
    "def OWA_weights(arr:np.array, func : Callable) -> np.array:\n",
    "    n = arr.shape[1]\n",
    "    w = np.zeros(n)\n",
    "    w[0] = func(1/(n))\n",
    "    for i in range(1,n):\n",
    "        w[i] = func((i+1)/n) - func(i/n)\n",
    "        \n",
    "    return w\n",
    "\n",
    "def OWA(arr: np.array, alpha = 2) -> np.array:\n",
    "    q = lambda x: x**alpha\n",
    "    weights = OWA_weights(arr,q)\n",
    "    print(weights)\n",
    "    srtd_arr = np.apply_along_axis(sorted,1,arr)\n",
    "    return np.apply_along_axis(np.dot,1,srtd_arr,weights)"
   ]
  },
  {
   "cell_type": "code",
   "execution_count": 175,
   "metadata": {},
   "outputs": [
    {
     "name": "stdout",
     "output_type": "stream",
     "text": [
      "[0.04 0.12 0.2  0.28 0.36]\n",
      "So ranking is:\n",
      "[0.2724 1.     0.74   0.8796 0.36   0.74   0.6476]\n"
     ]
    }
   ],
   "source": [
    "owa_aggrd = OWA(work)\n",
    "print(\"So ranking is:\\n{}\".format(owa_aggrd))"
   ]
  },
  {
   "cell_type": "markdown",
   "metadata": {},
   "source": [
    "Значит лучший оператор:"
   ]
  },
  {
   "cell_type": "code",
   "execution_count": 176,
   "metadata": {},
   "outputs": [
    {
     "data": {
      "text/plain": [
       "'ЕвроОКНА'"
      ]
     },
     "execution_count": 176,
     "metadata": {},
     "output_type": "execute_result"
    }
   ],
   "source": [
    "labels[owa_aggrd.argmax()]"
   ]
  },
  {
   "cell_type": "markdown",
   "metadata": {},
   "source": [
    "## Задача 2"
   ]
  },
  {
   "cell_type": "code",
   "execution_count": 177,
   "metadata": {},
   "outputs": [
    {
     "name": "stdout",
     "output_type": "stream",
     "text": [
      "We have next labels:\n",
      "{0: 'Аврора', 1: 'Кристалл', 2: 'Энергия', 3: 'Здоровый город', 4: 'Леди N', 5: 'Университетский', 6: 'Академия красоты и здоровья', 7: 'Филиал №6'}\n",
      "And this table:\n",
      "[['VL' 'H' 'L' 'M' 'M' 'VH']\n",
      " ['L' 'M' 'L' 'M' 'M' 'M']\n",
      " ['H' 'L' 'M' 'H' 'H' 'H']\n",
      " ['M' 'VH' 'H' 'H' 'H' 'M']\n",
      " ['H' 'M' 'VH' 'H' 'M' 'VH']\n",
      " ['M' 'M' 'H' 'M' 'L' 'M']\n",
      " ['M' 'L' 'M' 'H' 'M' 'H']\n",
      " ['VH' 'H' 'M' 'M' 'L' 'M']]\n",
      "Main features are ones that are in next columns: [0, 1, 2, 3]\n"
     ]
    }
   ],
   "source": [
    "given = np.array([\n",
    "    ['VL', 'H', 'L', 'M', 'M', 'VH'],\n",
    "    ['L', 'M', 'L', 'M', 'M', 'M'],\n",
    "    ['H', 'L', 'M', 'H', 'H', 'H'],\n",
    "    ['M', 'VH', 'H', 'H', 'H', 'M'],\n",
    "    ['H', 'M', 'VH', 'H', 'M', 'VH'],\n",
    "    ['M', 'M', 'H', 'M', 'L', 'M'],\n",
    "    ['M', 'L', 'M', 'H', 'M', 'H'],\n",
    "    ['VH', 'H', 'M', 'M', 'L', 'M']\n",
    "])\n",
    "\n",
    "labels = {\n",
    "    0 : \"Аврора\",\n",
    "    1 : \"Кристалл\",\n",
    "    2 : \"Энергия\",\n",
    "    3 : \"Здоровый город\",\n",
    "    4 : \"Леди N\",\n",
    "    5 : \"Университетский\",\n",
    "    6 : \"Академия красоты и здоровья\",\n",
    "    7 : \"Филиал №6\"\n",
    "}\n",
    "\n",
    "idx = [0,1,2,3]\n",
    "work = np.take(given,idx,axis=1)\n",
    "\n",
    "terms_interpret = {\n",
    "    'VL' : 0,\n",
    "    'L' : 1,\n",
    "    'M' : 2,\n",
    "    'H' : 3,\n",
    "    'VH' : 4\n",
    "}\n",
    "\n",
    "print(\"We have next labels:\\n{}\\nAnd this table:\\n{}\\nMain features \\\n",
    "are ones that are in next columns: {}\".format(labels,given,idx))"
   ]
  },
  {
   "cell_type": "markdown",
   "metadata": {},
   "source": [
    "Сформируем вектор весов так же, как и формировали вектор весов для OWA-оператора, а также отсортируем оценки объектов по выбранным показателям по невозрастанию с учетом интерпретации термов:"
   ]
  },
  {
   "cell_type": "code",
   "execution_count": 178,
   "metadata": {},
   "outputs": [],
   "source": [
    "def lowa_sort(arr:np.array, scale: dict) -> np.array:\n",
    "    \"\"\"\n",
    "    Performs sort using linguistic scale\n",
    "    \"\"\"\n",
    "    lst = list(arr)\n",
    "    for i in range(len(l)):\n",
    "        lst[i] = sorted(lst[i], key=lambda x: scale[x])\n",
    "    return np.array(lst)"
   ]
  },
  {
   "cell_type": "code",
   "execution_count": 182,
   "metadata": {},
   "outputs": [
    {
     "name": "stdout",
     "output_type": "stream",
     "text": [
      "Weights are:\n",
      "[0.0625 0.1875 0.3125 0.4375]\n",
      "Sorted marks are:\n",
      "[['VL' 'L' 'M' 'H']\n",
      " ['L' 'L' 'M' 'M']\n",
      " ['L' 'M' 'H' 'H']\n",
      " ['M' 'H' 'H' 'VH']\n",
      " ['M' 'H' 'H' 'VH']\n",
      " ['M' 'M' 'M' 'H']\n",
      " ['L' 'M' 'M' 'H']\n",
      " ['M' 'M' 'H' 'VH']]\n"
     ]
    }
   ],
   "source": [
    "weights = OWA_weights(work, func = lambda x: x**2)\n",
    "srtd_vals = lowa_sort(work,terms_interpret)\n",
    "print(\"Weights are:\\n{}\\nSorted marks are:\\n{}\".format(weights,srtd_vals))"
   ]
  },
  {
   "cell_type": "markdown",
   "metadata": {},
   "source": [
    "Применим $LOWA$-оператор и получим ранжирование объектов по данным оценкам:"
   ]
  },
  {
   "cell_type": "code",
   "execution_count": 183,
   "metadata": {},
   "outputs": [],
   "source": [
    "def lowa(arr:np.array, weights:np.array, scale:dict) -> np.array:\n",
    "    \"\"\"\n",
    "    Applies LOWA-operator to given data\n",
    "    \"\"\"\n",
    "    n = weights.shape[0]\n",
    "    rnkg_arr = [0]*arr.shape[0]\n",
    "    T = len(scale) - 1\n",
    "    if n == 2:\n",
    "        for it in range(arr.shape[0]):\n",
    "            j = scale[arr[it,0]]\n",
    "            i = scale[arr[it,1]]\n",
    "            k = min(T,i + round(weights[0]*(j-1)))\n",
    "            rnkg_arr[it] = list(scale.keys())[list(scale.values()).index(k)]\n",
    "    else:\n",
    "        l = weights[1:] / weights[1:].sum()\n",
    "        right_term = lowa(arr[:,1:], l,scale)\n",
    "        for it in range(arr.shape[0]):\n",
    "            j = scale[arr[it,0]]\n",
    "            i = scale[right_term[it]]\n",
    "            k = min(T,i + round(weights[0]*(j-1)))\n",
    "            rnkg_arr[it] = list(scale.keys())[list(scale.values()).index(k)]\n",
    "            \n",
    "    return np.array(rnkg_arr)"
   ]
  },
  {
   "cell_type": "code",
   "execution_count": 184,
   "metadata": {},
   "outputs": [
    {
     "name": "stdout",
     "output_type": "stream",
     "text": [
      " Аврора : H\n",
      " Кристалл : M\n",
      " Энергия : VH\n",
      " Здоровый город : VH\n",
      " Леди N : VH\n",
      " Университетский : H\n",
      " Академия красоты и здоровья : H\n",
      " Филиал №6 : VH\n"
     ]
    }
   ],
   "source": [
    "vals = lowa(srtd_vals, weights, terms_interpret)\n",
    "for i in range(len(labels)):\n",
    "    print(\" {} : {}\".format(labels[i], vals[i]))"
   ]
  },
  {
   "cell_type": "markdown",
   "metadata": {},
   "source": [
    "Сделаем ранжирование объектов:"
   ]
  },
  {
   "cell_type": "code",
   "execution_count": 185,
   "metadata": {},
   "outputs": [
    {
     "name": "stdout",
     "output_type": "stream",
     "text": [
      "Энергия VH\n",
      "Здоровый город VH\n",
      "Леди N VH\n",
      "Филиал №6 VH\n",
      "Аврора H\n",
      "Университетский H\n",
      "Академия красоты и здоровья H\n",
      "Кристалл M\n"
     ]
    }
   ],
   "source": [
    "pairs = dict(zip(labels,vals))\n",
    "ranking = {labels[k] : v for k,v in sorted(pairs.items(), \n",
    "                                           key = lambda item : terms_interpret[item[1]], \n",
    "                                           reverse = True)}\n",
    "for k,v in ranking.items():\n",
    "    print(k,v)"
   ]
  }
 ],
 "metadata": {
  "kernelspec": {
   "display_name": "Python 3",
   "language": "python",
   "name": "python3"
  },
  "language_info": {
   "codemirror_mode": {
    "name": "ipython",
    "version": 3
   },
   "file_extension": ".py",
   "mimetype": "text/x-python",
   "name": "python",
   "nbconvert_exporter": "python",
   "pygments_lexer": "ipython3",
   "version": "3.7.6"
  }
 },
 "nbformat": 4,
 "nbformat_minor": 4
}
