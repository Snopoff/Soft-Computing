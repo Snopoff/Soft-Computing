{
 "cells": [
  {
   "cell_type": "markdown",
   "metadata": {},
   "source": [
    "## Контрольная работа\n",
    "Вариант 11\n"
   ]
  },
  {
   "cell_type": "code",
   "execution_count": 2,
   "metadata": {},
   "outputs": [],
   "source": [
    "import sympy as sp\n",
    "import numpy as np\n",
    "from scipy import integrate\n",
    "from typing import Callable\n",
    "import matplotlib.pyplot as plt"
   ]
  },
  {
   "cell_type": "markdown",
   "metadata": {},
   "source": [
    "### Номер 3"
   ]
  },
  {
   "cell_type": "markdown",
   "metadata": {
    "collapsed": "true"
   },
   "source": [
    "#### Попытка что-то сделать символьно:"
   ]
  },
  {
   "cell_type": "code",
   "execution_count": 31,
   "metadata": {},
   "outputs": [],
   "source": [
    "x,y,r = sp.symbols(\"x,y,r\")\n",
    "F,G = sp.symbols(\"F,G\", cls=sp.Function)\n",
    "F = sp.Min(1,x+y)\n",
    "G = sp.Min(1, (x+y+2*r*x*y)/(1-r**2*x*y))"
   ]
  },
  {
   "cell_type": "code",
   "execution_count": 32,
   "metadata": {},
   "outputs": [],
   "source": [
    "def d(F,G):\n",
    "    J = sp.integrate(sp.integrate(sp.Abs(F-G), (x,0,1)), (y,0,1))\n",
    "    return J.simplify()"
   ]
  },
  {
   "cell_type": "code",
   "execution_count": 30,
   "metadata": {},
   "outputs": [
    {
     "name": "stdout",
     "output_type": "stream",
     "text": [
      "Integral(Piecewise((0, (x + y >= 1) & ((2*x*y - x - y)/(x*y - 1) >= 1)), (y - 1/2, ((x + y < 2) | (1/(x + y - 1) < 1)) & ((2*x*y - x - y)/(x*y - 1) >= 1)), (Integral((meijerg(((-2, 1, 1), (3,)), ((2,), (0, 0, 0)), x + y - 1) - 3*meijerg(((-1, 1, 1), (3,)), ((2,), (0, 0, 0)), x + y - 1) + meijerg(((0, 1, 1), (3,)), ((2,), (0, 0, 0)), x + y - 1) + meijerg(((0, 1, 1, 1), ()), ((), (2, 0, 0, 0)), x + y - 1) + 3*meijerg(((1, 1, 1, 1), ()), ((), (2, 0, 0, 0)), x + y - 1) + 7*meijerg(((2, 1, 1, 1), ()), ((), (2, 0, 0, 0)), x + y - 1) + 8*meijerg(((3, 1, 1, 1), ()), ((), (2, 0, 0, 0)), x + y - 1))/(x + y - 1), (x, 0, 1)), (2*x*y - x - y)/(x*y - 1) >= 1), (Integral(Abs((x*y - x - y + 1)/(x*y - 1)), (x, 0, 1)), x + y >= 1), (Integral(Abs(x*y*(x + y - 2)/(x*y - 1)), (x, 0, 1)), True)), (y, 0, 1))\n",
      "0\n",
      "Integral(Piecewise((0, (x + y >= 1) & ((2*x*y + x + y)/(x*y - 1) <= -1)), (y - 1/2, ((x + y < 2) | (1/(x + y - 1) < 1)) & ((2*x*y + x + y)/(x*y - 1) <= -1)), (Integral((meijerg(((-2, 1, 1), (3,)), ((2,), (0, 0, 0)), x + y - 1) - 3*meijerg(((-1, 1, 1), (3,)), ((2,), (0, 0, 0)), x + y - 1) + meijerg(((0, 1, 1), (3,)), ((2,), (0, 0, 0)), x + y - 1) + meijerg(((0, 1, 1, 1), ()), ((), (2, 0, 0, 0)), x + y - 1) + 3*meijerg(((1, 1, 1, 1), ()), ((), (2, 0, 0, 0)), x + y - 1) + 7*meijerg(((2, 1, 1, 1), ()), ((), (2, 0, 0, 0)), x + y - 1) + 8*meijerg(((3, 1, 1, 1), ()), ((), (2, 0, 0, 0)), x + y - 1))/(x + y - 1), (x, 0, 1)), (2*x*y + x + y)/(x*y - 1) <= -1), (Integral(Abs((3*x*y + x + y - 1)/(x*y - 1)), (x, 0, 1)), x + y >= 1), (Integral(Abs(x*y*(x + y + 2)/(x*y - 1)), (x, 0, 1)), True)), (y, 0, 1))\n"
     ]
    }
   ],
   "source": [
    "for t in [-1,0,1]:\n",
    "    print(d(F.subs(r,t),G.subs(r,t)))"
   ]
  },
  {
   "cell_type": "code",
   "execution_count": 35,
   "metadata": {},
   "outputs": [
    {
     "data": {
      "text/latex": [
       "$\\displaystyle \\int\\limits_{0}^{1} \\begin{cases} 0 & \\text{for}\\: x + y \\geq 1 \\wedge \\frac{0.2 x y + x + y}{0.01 x y - 1} \\leq -1 \\\\y - \\frac{1}{2} & \\text{for}\\: \\frac{0.2 x y + x + y}{0.01 x y - 1} \\leq -1 \\wedge \\left(x + y < 2 \\vee \\frac{1}{x + y - 1} < 1\\right) \\\\\\int\\limits_{0}^{1} \\frac{{G_{4, 4}^{1, 3}\\left(\\begin{matrix} -2, 1, 1 & 3 \\\\2 & 0, 0, 0 \\end{matrix} \\middle| {x + y - 1} \\right)} - 3 {G_{4, 4}^{1, 3}\\left(\\begin{matrix} -1, 1, 1 & 3 \\\\2 & 0, 0, 0 \\end{matrix} \\middle| {x + y - 1} \\right)} + {G_{4, 4}^{1, 3}\\left(\\begin{matrix} 0, 1, 1 & 3 \\\\2 & 0, 0, 0 \\end{matrix} \\middle| {x + y - 1} \\right)} + {G_{4, 4}^{0, 4}\\left(\\begin{matrix} 0, 1, 1, 1 &  \\\\ & 2, 0, 0, 0 \\end{matrix} \\middle| {x + y - 1} \\right)} + 3 {G_{4, 4}^{0, 4}\\left(\\begin{matrix} 1, 1, 1, 1 &  \\\\ & 2, 0, 0, 0 \\end{matrix} \\middle| {x + y - 1} \\right)} + 7 {G_{4, 4}^{0, 4}\\left(\\begin{matrix} 2, 1, 1, 1 &  \\\\ & 2, 0, 0, 0 \\end{matrix} \\middle| {x + y - 1} \\right)} + 8 {G_{4, 4}^{0, 4}\\left(\\begin{matrix} 3, 1, 1, 1 &  \\\\ & 2, 0, 0, 0 \\end{matrix} \\middle| {x + y - 1} \\right)}}{x + y - 1}\\, dx & \\text{for}\\: \\frac{0.2 x y + x + y}{0.01 x y - 1} \\leq -1 \\\\\\int\\limits_{0}^{1} \\left|{\\frac{0.21 x y + x + y - 1}{0.01 x y - 1}}\\right|\\, dx & \\text{for}\\: x + y \\geq 1 \\\\\\int\\limits_{0}^{1} 1.0 \\left|{\\frac{x y \\left(0.01 x + 0.01 y + 0.2\\right)}{0.01 x y - 1.0}}\\right|\\, dx & \\text{otherwise} \\end{cases}\\, dy$"
      ],
      "text/plain": [
       "Integral(Piecewise((0, (x + y >= 1) & ((0.2*x*y + x + y)/(0.01*x*y - 1) <= -1)), (y - 1/2, ((x + y < 2) | (1/(x + y - 1) < 1)) & ((0.2*x*y + x + y)/(0.01*x*y - 1) <= -1)), (Integral((meijerg(((-2, 1, 1), (3,)), ((2,), (0, 0, 0)), x + y - 1) - 3*meijerg(((-1, 1, 1), (3,)), ((2,), (0, 0, 0)), x + y - 1) + meijerg(((0, 1, 1), (3,)), ((2,), (0, 0, 0)), x + y - 1) + meijerg(((0, 1, 1, 1), ()), ((), (2, 0, 0, 0)), x + y - 1) + 3*meijerg(((1, 1, 1, 1), ()), ((), (2, 0, 0, 0)), x + y - 1) + 7*meijerg(((2, 1, 1, 1), ()), ((), (2, 0, 0, 0)), x + y - 1) + 8*meijerg(((3, 1, 1, 1), ()), ((), (2, 0, 0, 0)), x + y - 1))/(x + y - 1), (x, 0, 1)), (0.2*x*y + x + y)/(0.01*x*y - 1) <= -1), (Integral(Abs((0.21*x*y + x + y - 1)/(0.01*x*y - 1)), (x, 0, 1)), x + y >= 1), (Integral(1.0*Abs(x*y*(0.01*x + 0.01*y + 0.2)/(0.01*x*y - 1.0)), (x, 0, 1)), True)), (y, 0, 1))"
      ]
     },
     "execution_count": 35,
     "metadata": {},
     "output_type": "execute_result"
    }
   ],
   "source": [
    "d(F.subs(r,0.1), G.subs(r,0.1))"
   ]
  },
  {
   "cell_type": "markdown",
   "metadata": {
    "collapsed": "true"
   },
   "source": [
    "#### Попытка что-то сделать численно:"
   ]
  },
  {
   "cell_type": "code",
   "execution_count": 2,
   "metadata": {},
   "outputs": [],
   "source": [
    "def d(F:Callable, G:Callable) -> np.double:\n",
    "    \"\"\"\n",
    "                 11\n",
    "        d(F,G) = ∫∫|F(x,y) - G(x,y)|dxdy\n",
    "                 00\n",
    "    \"\"\"\n",
    "    func = lambda x,y: np.abs(F(x,y) - G(x,y))\n",
    "    a,b = 0, 1\n",
    "    g = lambda x: 0\n",
    "    h = lambda x: 1\n",
    "    J = integrate.dblquad(func, a,b, g, h)\n",
    "    \n",
    "def F(x:np.double,y:np.double) -> np.double:\n",
    "    \"\"\"\n",
    "        F(x,y) = min{1, x+y}\n",
    "    \"\"\"\n",
    "    return np.minimum(1.0,x+y)\n",
    "\n",
    "def G(ro:np.double) -> np.double:\n",
    "    \"\"\"\n",
    "                        x+y+2ρxy\n",
    "        G(x,y) = min{1, ---------}\n",
    "                        1-ρ^2xy\n",
    "    \"\"\"\n",
    "    return lambda x,y: np.minimum(1.0, (x+y+2*ro*x*y) / (1-ro**2*x*y))"
   ]
  },
  {
   "cell_type": "code",
   "execution_count": 3,
   "metadata": {},
   "outputs": [
    {
     "name": "stdout",
     "output_type": "stream",
     "text": [
      "None\n",
      "None\n",
      "None\n",
      "None\n",
      "None\n",
      "None\n",
      "None\n",
      "None\n",
      "None\n",
      "None\n"
     ]
    }
   ],
   "source": [
    "for r in np.linspace(-1, 1, 10):\n",
    "    print(d(F,G(r)))"
   ]
  },
  {
   "cell_type": "markdown",
   "metadata": {},
   "source": [
    "### Номер 4"
   ]
  },
  {
   "cell_type": "code",
   "execution_count": 3,
   "metadata": {},
   "outputs": [],
   "source": [
    "def phi(x: np.float,a = 1., C = 0) -> np.float:\n",
    "    multi = 1/(2+a)\n",
    "    log = np.log((3-2*x)/(a*(x-1)+1))\n",
    "    return multi*log + C"
   ]
  },
  {
   "cell_type": "code",
   "execution_count": null,
   "metadata": {},
   "outputs": [],
   "source": []
  },
  {
   "cell_type": "code",
   "execution_count": null,
   "metadata": {},
   "outputs": [],
   "source": []
  },
  {
   "cell_type": "code",
   "execution_count": null,
   "metadata": {},
   "outputs": [],
   "source": []
  },
  {
   "cell_type": "code",
   "execution_count": null,
   "metadata": {},
   "outputs": [],
   "source": []
  },
  {
   "cell_type": "code",
   "execution_count": null,
   "metadata": {},
   "outputs": [],
   "source": []
  },
  {
   "cell_type": "code",
   "execution_count": null,
   "metadata": {},
   "outputs": [],
   "source": []
  },
  {
   "cell_type": "code",
   "execution_count": null,
   "metadata": {},
   "outputs": [],
   "source": []
  },
  {
   "cell_type": "code",
   "execution_count": null,
   "metadata": {},
   "outputs": [],
   "source": []
  },
  {
   "cell_type": "code",
   "execution_count": null,
   "metadata": {},
   "outputs": [],
   "source": []
  },
  {
   "cell_type": "code",
   "execution_count": null,
   "metadata": {},
   "outputs": [],
   "source": []
  },
  {
   "cell_type": "code",
   "execution_count": null,
   "metadata": {},
   "outputs": [],
   "source": []
  },
  {
   "cell_type": "code",
   "execution_count": null,
   "metadata": {},
   "outputs": [],
   "source": []
  },
  {
   "cell_type": "code",
   "execution_count": null,
   "metadata": {},
   "outputs": [],
   "source": []
  },
  {
   "cell_type": "code",
   "execution_count": null,
   "metadata": {},
   "outputs": [],
   "source": []
  }
 ],
 "metadata": {
  "kernelspec": {
   "display_name": "Python 3",
   "language": "python",
   "name": "python3"
  },
  "language_info": {
   "codemirror_mode": {
    "name": "ipython",
    "version": 3
   },
   "file_extension": ".py",
   "mimetype": "text/x-python",
   "name": "python",
   "nbconvert_exporter": "python",
   "pygments_lexer": "ipython3",
   "version": "3.7.6"
  }
 },
 "nbformat": 4,
 "nbformat_minor": 4
}
